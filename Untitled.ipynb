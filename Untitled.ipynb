{
 "cells": [
  {
   "cell_type": "markdown",
   "metadata": {},
   "source": [
    "For starters, There would be no point in developing a environment on our own. Thankfully OpenAI.gym is there :) "
   ]
  },
  {
   "cell_type": "code",
   "execution_count": 3,
   "metadata": {},
   "outputs": [
    {
     "name": "stdout",
     "output_type": "stream",
     "text": [
      "Collecting cmake\n",
      "  Using cached https://files.pythonhosted.org/packages/34/39/ddc6307052fe11f31fb74909049b0bb6a656b940ae64c42da38b3154885b/cmake-3.14.4-py3-none-win_amd64.whl\n",
      "Requirement already satisfied (use --upgrade to upgrade): cmake from https://files.pythonhosted.org/packages/34/39/ddc6307052fe11f31fb74909049b0bb6a656b940ae64c42da38b3154885b/cmake-3.14.4-py3-none-win_amd64.whl#sha256=5fae5c883ceaa31c3d85516af8a1fd4f1491c18dcec28fe4912ce8e4e7f55abb in c:\\users\\admin\\appdata\\local\\programs\\python\\python36\\lib\\site-packages\n",
      "Collecting gym[atari]\n",
      "Requirement already satisfied: scipy in c:\\users\\admin\\appdata\\local\\programs\\python\\python36\\lib\\site-packages (1.1.0)\n",
      "Requirement already satisfied: numpy>=1.10.4 in c:\\users\\admin\\appdata\\local\\programs\\python\\python36\\lib\\site-packages (from gym[atari]) (1.16.4)\n",
      "Collecting pyglet<=1.3.2,>=1.2.0 (from gym[atari])\n",
      "  Using cached https://files.pythonhosted.org/packages/1c/fc/dad5eaaab68f0c21e2f906a94ddb98175662cc5a654eee404d59554ce0fa/pyglet-1.3.2-py2.py3-none-any.whl\n",
      "Collecting cloudpickle~=1.2.0 (from gym[atari])\n",
      "  Using cached https://files.pythonhosted.org/packages/09/f4/4a080c349c1680a2086196fcf0286a65931708156f39568ed7051e42ff6a/cloudpickle-1.2.1-py2.py3-none-any.whl\n",
      "Requirement already satisfied: six in c:\\users\\admin\\appdata\\local\\programs\\python\\python36\\lib\\site-packages (from gym[atari]) (1.11.0)\n",
      "Collecting atari-py~=0.2.0; extra == \"atari\" (from gym[atari])\n",
      "  Using cached https://files.pythonhosted.org/packages/d7/9e/6d6c4f1f3c2cc72022458197964827b0304e29e4e774320a4fb32eaaf9cd/atari_py-0.2.6-cp36-cp36m-win_amd64.whl\n",
      "Requirement already satisfied: opencv-python; extra == \"atari\" in c:\\users\\admin\\appdata\\local\\programs\\python\\python36\\lib\\site-packages (from gym[atari]) (3.4.2.17)\n",
      "Requirement already satisfied: Pillow; extra == \"atari\" in c:\\users\\admin\\appdata\\local\\programs\\python\\python36\\lib\\site-packages (from gym[atari]) (5.2.0)\n",
      "Requirement already satisfied: future in c:\\users\\admin\\appdata\\local\\programs\\python\\python36\\lib\\site-packages (from pyglet<=1.3.2,>=1.2.0->gym[atari]) (0.17.1)\n",
      "Installing collected packages: pyglet, cloudpickle, atari-py, gym\n",
      "  Found existing installation: cloudpickle 0.5.3\n",
      "    Can't uninstall 'cloudpickle'. No files were found to uninstall.\n",
      "Successfully installed atari-py-0.2.6 cloudpickle-1.2.1 gym-0.14.0 pyglet-1.3.2\n"
     ]
    },
    {
     "name": "stderr",
     "output_type": "stream",
     "text": [
      "WARNING: You are using pip version 19.1.1, however version 19.2.3 is available.\n",
      "You should consider upgrading via the 'python -m pip install --upgrade pip' command.\n"
     ]
    }
   ],
   "source": [
    "!pip install cmake gym[atari] scipy"
   ]
  },
  {
   "cell_type": "code",
   "execution_count": 4,
   "metadata": {},
   "outputs": [],
   "source": [
    "import gym"
   ]
  },
  {
   "cell_type": "markdown",
   "metadata": {},
   "source": [
    "We'll be using the Taxi-v2 environment for starters"
   ]
  },
  {
   "cell_type": "code",
   "execution_count": 7,
   "metadata": {},
   "outputs": [],
   "source": [
    "env = gym.make(\"Taxi-v2\").env"
   ]
  },
  {
   "cell_type": "code",
   "execution_count": 8,
   "metadata": {},
   "outputs": [
    {
     "name": "stdout",
     "output_type": "stream",
     "text": [
      "+---------+\n",
      "|\u001b[34;1mR\u001b[0m: | : :G|\n",
      "| : : : : |\n",
      "| : : : : |\n",
      "| | : | : |\n",
      "|Y| : |\u001b[35m\u001b[43mB\u001b[0m\u001b[0m: |\n",
      "+---------+\n",
      "\n"
     ]
    }
   ],
   "source": [
    "env.render()"
   ]
  },
  {
   "cell_type": "code",
   "execution_count": null,
   "metadata": {},
   "outputs": [],
   "source": []
  }
 ],
 "metadata": {
  "kernelspec": {
   "display_name": "Python 3",
   "language": "python",
   "name": "python3"
  },
  "language_info": {
   "codemirror_mode": {
    "name": "ipython",
    "version": 3
   },
   "file_extension": ".py",
   "mimetype": "text/x-python",
   "name": "python",
   "nbconvert_exporter": "python",
   "pygments_lexer": "ipython3",
   "version": "3.6.2"
  }
 },
 "nbformat": 4,
 "nbformat_minor": 2
}
